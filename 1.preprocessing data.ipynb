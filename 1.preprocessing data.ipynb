{
 "cells": [
  {
   "cell_type": "markdown",
   "id": "84627cc1-8e13-48c2-a182-40fe32984fbf",
   "metadata": {},
   "source": [
    "# PREPROCESSING"
   ]
  },
  {
   "cell_type": "raw",
   "id": "cdbc7695-ae3a-480b-81be-4873eeff9b00",
   "metadata": {},
   "source": [
    "1. Importing Libraries"
   ]
  },
  {
   "cell_type": "code",
   "execution_count": 1,
   "id": "97f8bfda-e081-47d7-8f90-ddc4881c9efa",
   "metadata": {},
   "outputs": [],
   "source": [
    "import pandas as pd\n",
    "import numpy as np\n",
    "from sklearn.impute import SimpleImputer"
   ]
  },
  {
   "cell_type": "raw",
   "id": "958610e1-1238-46f2-bd2b-bd94c0497417",
   "metadata": {},
   "source": [
    "2. Loading the Data"
   ]
  },
  {
   "cell_type": "code",
   "execution_count": null,
   "id": "abb20d4d-7397-459c-a8df-7b7092390041",
   "metadata": {},
   "outputs": [],
   "source": [
    "dataset=pd.read_csv(\"crop_yield.csv\")\n",
    "dataset"
   ]
  },
  {
   "cell_type": "raw",
   "id": "9894597a-a82f-49df-98c6-ff3d8643b1ab",
   "metadata": {},
   "source": [
    "3. Checking for Missing Values"
   ]
  },
  {
   "cell_type": "code",
   "execution_count": null,
   "id": "5eba933f-2c65-46d2-b010-4c9db270b96f",
   "metadata": {},
   "outputs": [],
   "source": [
    "dataset.isnull().sum()"
   ]
  },
  {
   "cell_type": "raw",
   "id": "4e7d8362-725d-405a-823e-f3146eb51e95",
   "metadata": {},
   "source": [
    "4. Separating Quantitative and Qualitative Columns"
   ]
  },
  {
   "cell_type": "code",
   "execution_count": null,
   "id": "e08713d4-a838-4eee-9cec-1c1dc76800dc",
   "metadata": {},
   "outputs": [],
   "source": [
    "def quanQual(dataset):\n",
    "    quan=[]\n",
    "    qual=[]\n",
    "    for columnName in dataset.columns:\n",
    "        if(dataset[columnName].dtype=='O'):\n",
    "            qual.append(columnName)\n",
    "        else:\n",
    "            quan.append(columnName)\n",
    "    return quan,qual\n",
    "quan,qual=quanQual(dataset)\n"
   ]
  },
  {
   "cell_type": "code",
   "execution_count": null,
   "id": "04e0929e-8ce1-4fda-8f5b-bb26d2c610f7",
   "metadata": {},
   "outputs": [],
   "source": [
    "dataset[quan]"
   ]
  },
  {
   "cell_type": "raw",
   "id": "2d1849c9-3ced-4519-8039-6845214adb23",
   "metadata": {},
   "source": [
    "5. Imputing Missing Values in Quantitative Columns"
   ]
  },
  {
   "cell_type": "code",
   "execution_count": null,
   "id": "354d3098-e0af-453b-9a40-0fc114053192",
   "metadata": {},
   "outputs": [],
   "source": [
    "import numpy as np\n",
    "from sklearn.impute import SimpleImputer\n",
    "imp = SimpleImputer(missing_values=np.nan, strategy='mean')\n",
    "print(quan)\n",
    "new_dataset1=imp.fit(dataset[quan])\n",
    "new_dataset1=imp.transform(dataset[quan])"
   ]
  },
  {
   "cell_type": "code",
   "execution_count": null,
   "id": "51488ca3-dc79-42c3-b165-b0633b114631",
   "metadata": {},
   "outputs": [],
   "source": [
    "new_dataset1=pd.DataFrame(new_dataset1,columns=quan)\n",
    "new_dataset1"
   ]
  },
  {
   "cell_type": "raw",
   "id": "cc2bc61e-359e-494c-bea7-888efda2c1da",
   "metadata": {},
   "source": [
    "6. Imputing Missing Values in Qualitative Columns"
   ]
  },
  {
   "cell_type": "code",
   "execution_count": null,
   "id": "b58f4cd7-ed23-4d54-92b1-30b8cbfa36a9",
   "metadata": {},
   "outputs": [],
   "source": [
    "\n",
    "imp2=SimpleImputer(missing_values=np.nan, strategy='most_frequent')\n",
    "new_dataset2=imp2.fit(dataset[qual])\n",
    "new_dataset2=imp2.transform(dataset[qual])\n"
   ]
  },
  {
   "cell_type": "code",
   "execution_count": null,
   "id": "c241d107-d7e2-4900-a417-f48df6e34e4b",
   "metadata": {},
   "outputs": [],
   "source": [
    "new_dataset2=pd.DataFrame(new_dataset2,columns=qual)\n",
    "new_dataset2"
   ]
  },
  {
   "cell_type": "raw",
   "id": "e681f25b-ddeb-4643-bb46-e66b3052ad23",
   "metadata": {},
   "source": [
    "7. Combining the Imputed DataFrames"
   ]
  },
  {
   "cell_type": "code",
   "execution_count": null,
   "id": "ba886e24-7e98-43c1-80f9-a0f031ab1749",
   "metadata": {},
   "outputs": [],
   "source": [
    "combined_data=pd.concat([new_dataset1,new_dataset2],axis=1)\n",
    "combined_data"
   ]
  },
  {
   "cell_type": "raw",
   "id": "f8627a35-a23a-45f6-b903-5e80f9e9e0b2",
   "metadata": {},
   "source": [
    "8.  Attempting to Fill Missing Values "
   ]
  },
  {
   "cell_type": "code",
   "execution_count": null,
   "id": "d2fb67e3-62b8-4ad3-ad6a-733927a87d33",
   "metadata": {},
   "outputs": [],
   "source": [
    "dataset.fillna(combined_data,inplace=True)"
   ]
  },
  {
   "cell_type": "code",
   "execution_count": null,
   "id": "6f5db1fb-872c-4f34-8cc0-258071352b82",
   "metadata": {},
   "outputs": [],
   "source": [
    "dataset.isnull().sum()"
   ]
  },
  {
   "cell_type": "code",
   "execution_count": null,
   "id": "238c84e2-925d-4f68-a0b7-819a84a4182e",
   "metadata": {},
   "outputs": [],
   "source": []
  }
 ],
 "metadata": {
  "kernelspec": {
   "display_name": "Python 3 (ipykernel)",
   "language": "python",
   "name": "python3"
  },
  "language_info": {
   "codemirror_mode": {
    "name": "ipython",
    "version": 3
   },
   "file_extension": ".py",
   "mimetype": "text/x-python",
   "name": "python",
   "nbconvert_exporter": "python",
   "pygments_lexer": "ipython3",
   "version": "3.11.5"
  }
 },
 "nbformat": 4,
 "nbformat_minor": 5
}
