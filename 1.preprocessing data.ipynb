{
 "cells": [
  {
   "cell_type": "markdown",
   "id": "84627cc1-8e13-48c2-a182-40fe32984fbf",
   "metadata": {},
   "source": [
    "# PREPROCESSING"
   ]
  },
  {
   "cell_type": "raw",
   "id": "435e88df-2032-4238-89c3-e6c7013bfdda",
   "metadata": {},
   "source": [
    "1. Importing Libraries"
   ]
  },
  {
   "cell_type": "code",
   "execution_count": 1,
   "id": "97f8bfda-e081-47d7-8f90-ddc4881c9efa",
   "metadata": {},
   "outputs": [],
   "source": [
    "import pandas as pd\n",
    "import numpy as np\n",
    "from sklearn.impute import SimpleImputer"
   ]
  },
  {
   "cell_type": "raw",
   "id": "dc2b3953-9e30-4951-9f4a-5aea3cdce618",
   "metadata": {},
   "source": [
    "2. Loading the Data"
   ]
  },
  {
   "cell_type": "code",
   "execution_count": 2,
   "id": "abb20d4d-7397-459c-a8df-7b7092390041",
   "metadata": {},
   "outputs": [
    {
     "data": {
      "text/html": [
       "<div>\n",
       "<style scoped>\n",
       "    .dataframe tbody tr th:only-of-type {\n",
       "        vertical-align: middle;\n",
       "    }\n",
       "\n",
       "    .dataframe tbody tr th {\n",
       "        vertical-align: top;\n",
       "    }\n",
       "\n",
       "    .dataframe thead th {\n",
       "        text-align: right;\n",
       "    }\n",
       "</style>\n",
       "<table border=\"1\" class=\"dataframe\">\n",
       "  <thead>\n",
       "    <tr style=\"text-align: right;\">\n",
       "      <th></th>\n",
       "      <th>Region</th>\n",
       "      <th>Soil_Type</th>\n",
       "      <th>Crop</th>\n",
       "      <th>Rainfall_mm</th>\n",
       "      <th>Temperature_Celsius</th>\n",
       "      <th>Fertilizer_Used</th>\n",
       "      <th>Irrigation_Used</th>\n",
       "      <th>Weather_Condition</th>\n",
       "      <th>Days_to_Harvest</th>\n",
       "      <th>Yield_tons_per_hectare</th>\n",
       "    </tr>\n",
       "  </thead>\n",
       "  <tbody>\n",
       "    <tr>\n",
       "      <th>0</th>\n",
       "      <td>West</td>\n",
       "      <td>Sandy</td>\n",
       "      <td>Cotton</td>\n",
       "      <td>897.077239</td>\n",
       "      <td>27.676966</td>\n",
       "      <td>False</td>\n",
       "      <td>True</td>\n",
       "      <td>Cloudy</td>\n",
       "      <td>122</td>\n",
       "      <td>6.555816</td>\n",
       "    </tr>\n",
       "    <tr>\n",
       "      <th>1</th>\n",
       "      <td>South</td>\n",
       "      <td>Clay</td>\n",
       "      <td>Rice</td>\n",
       "      <td>992.673282</td>\n",
       "      <td>18.026142</td>\n",
       "      <td>True</td>\n",
       "      <td>True</td>\n",
       "      <td>Rainy</td>\n",
       "      <td>140</td>\n",
       "      <td>8.527341</td>\n",
       "    </tr>\n",
       "    <tr>\n",
       "      <th>2</th>\n",
       "      <td>North</td>\n",
       "      <td>Loam</td>\n",
       "      <td>Barley</td>\n",
       "      <td>147.998025</td>\n",
       "      <td>29.794042</td>\n",
       "      <td>False</td>\n",
       "      <td>False</td>\n",
       "      <td>Sunny</td>\n",
       "      <td>106</td>\n",
       "      <td>1.127443</td>\n",
       "    </tr>\n",
       "    <tr>\n",
       "      <th>3</th>\n",
       "      <td>North</td>\n",
       "      <td>Sandy</td>\n",
       "      <td>Soybean</td>\n",
       "      <td>986.866331</td>\n",
       "      <td>16.644190</td>\n",
       "      <td>False</td>\n",
       "      <td>True</td>\n",
       "      <td>Rainy</td>\n",
       "      <td>146</td>\n",
       "      <td>6.517573</td>\n",
       "    </tr>\n",
       "    <tr>\n",
       "      <th>4</th>\n",
       "      <td>South</td>\n",
       "      <td>Silt</td>\n",
       "      <td>Wheat</td>\n",
       "      <td>730.379174</td>\n",
       "      <td>31.620687</td>\n",
       "      <td>True</td>\n",
       "      <td>True</td>\n",
       "      <td>Cloudy</td>\n",
       "      <td>110</td>\n",
       "      <td>7.248251</td>\n",
       "    </tr>\n",
       "    <tr>\n",
       "      <th>...</th>\n",
       "      <td>...</td>\n",
       "      <td>...</td>\n",
       "      <td>...</td>\n",
       "      <td>...</td>\n",
       "      <td>...</td>\n",
       "      <td>...</td>\n",
       "      <td>...</td>\n",
       "      <td>...</td>\n",
       "      <td>...</td>\n",
       "      <td>...</td>\n",
       "    </tr>\n",
       "    <tr>\n",
       "      <th>999995</th>\n",
       "      <td>West</td>\n",
       "      <td>Silt</td>\n",
       "      <td>Rice</td>\n",
       "      <td>302.805345</td>\n",
       "      <td>27.987428</td>\n",
       "      <td>False</td>\n",
       "      <td>False</td>\n",
       "      <td>Sunny</td>\n",
       "      <td>76</td>\n",
       "      <td>1.347586</td>\n",
       "    </tr>\n",
       "    <tr>\n",
       "      <th>999996</th>\n",
       "      <td>South</td>\n",
       "      <td>Chalky</td>\n",
       "      <td>Barley</td>\n",
       "      <td>932.991383</td>\n",
       "      <td>39.661039</td>\n",
       "      <td>True</td>\n",
       "      <td>False</td>\n",
       "      <td>Rainy</td>\n",
       "      <td>93</td>\n",
       "      <td>7.311594</td>\n",
       "    </tr>\n",
       "    <tr>\n",
       "      <th>999997</th>\n",
       "      <td>North</td>\n",
       "      <td>Peaty</td>\n",
       "      <td>Cotton</td>\n",
       "      <td>867.362046</td>\n",
       "      <td>24.370042</td>\n",
       "      <td>True</td>\n",
       "      <td>False</td>\n",
       "      <td>Cloudy</td>\n",
       "      <td>108</td>\n",
       "      <td>5.763182</td>\n",
       "    </tr>\n",
       "    <tr>\n",
       "      <th>999998</th>\n",
       "      <td>West</td>\n",
       "      <td>Silt</td>\n",
       "      <td>Wheat</td>\n",
       "      <td>492.812857</td>\n",
       "      <td>33.045505</td>\n",
       "      <td>False</td>\n",
       "      <td>False</td>\n",
       "      <td>Sunny</td>\n",
       "      <td>102</td>\n",
       "      <td>2.070159</td>\n",
       "    </tr>\n",
       "    <tr>\n",
       "      <th>999999</th>\n",
       "      <td>West</td>\n",
       "      <td>Sandy</td>\n",
       "      <td>Maize</td>\n",
       "      <td>180.936180</td>\n",
       "      <td>27.298847</td>\n",
       "      <td>True</td>\n",
       "      <td>False</td>\n",
       "      <td>Sunny</td>\n",
       "      <td>76</td>\n",
       "      <td>2.937243</td>\n",
       "    </tr>\n",
       "  </tbody>\n",
       "</table>\n",
       "<p>1000000 rows × 10 columns</p>\n",
       "</div>"
      ],
      "text/plain": [
       "       Region Soil_Type     Crop  Rainfall_mm  Temperature_Celsius  \\\n",
       "0        West     Sandy   Cotton   897.077239            27.676966   \n",
       "1       South      Clay     Rice   992.673282            18.026142   \n",
       "2       North      Loam   Barley   147.998025            29.794042   \n",
       "3       North     Sandy  Soybean   986.866331            16.644190   \n",
       "4       South      Silt    Wheat   730.379174            31.620687   \n",
       "...       ...       ...      ...          ...                  ...   \n",
       "999995   West      Silt     Rice   302.805345            27.987428   \n",
       "999996  South    Chalky   Barley   932.991383            39.661039   \n",
       "999997  North     Peaty   Cotton   867.362046            24.370042   \n",
       "999998   West      Silt    Wheat   492.812857            33.045505   \n",
       "999999   West     Sandy    Maize   180.936180            27.298847   \n",
       "\n",
       "        Fertilizer_Used  Irrigation_Used Weather_Condition  Days_to_Harvest  \\\n",
       "0                 False             True            Cloudy              122   \n",
       "1                  True             True             Rainy              140   \n",
       "2                 False            False             Sunny              106   \n",
       "3                 False             True             Rainy              146   \n",
       "4                  True             True            Cloudy              110   \n",
       "...                 ...              ...               ...              ...   \n",
       "999995            False            False             Sunny               76   \n",
       "999996             True            False             Rainy               93   \n",
       "999997             True            False            Cloudy              108   \n",
       "999998            False            False             Sunny              102   \n",
       "999999             True            False             Sunny               76   \n",
       "\n",
       "        Yield_tons_per_hectare  \n",
       "0                     6.555816  \n",
       "1                     8.527341  \n",
       "2                     1.127443  \n",
       "3                     6.517573  \n",
       "4                     7.248251  \n",
       "...                        ...  \n",
       "999995                1.347586  \n",
       "999996                7.311594  \n",
       "999997                5.763182  \n",
       "999998                2.070159  \n",
       "999999                2.937243  \n",
       "\n",
       "[1000000 rows x 10 columns]"
      ]
     },
     "execution_count": 2,
     "metadata": {},
     "output_type": "execute_result"
    }
   ],
   "source": [
    "dataset=pd.read_csv(\"crop_yield.csv\")\n",
    "dataset"
   ]
  },
  {
   "cell_type": "code",
   "execution_count": 3,
   "id": "e7e0b217-f126-4450-85de-09ab547c8f13",
   "metadata": {},
   "outputs": [
    {
     "ename": "SyntaxError",
     "evalue": "invalid syntax (3789415125.py, line 1)",
     "output_type": "error",
     "traceback": [
      "\u001b[1;36m  Cell \u001b[1;32mIn[3], line 1\u001b[1;36m\u001b[0m\n\u001b[1;33m    3. Checking for Missing Values\u001b[0m\n\u001b[1;37m       ^\u001b[0m\n\u001b[1;31mSyntaxError\u001b[0m\u001b[1;31m:\u001b[0m invalid syntax\n"
     ]
    }
   ],
   "source": [
    "3. Checking for Missing Values"
   ]
  },
  {
   "cell_type": "code",
   "execution_count": null,
   "id": "5eba933f-2c65-46d2-b010-4c9db270b96f",
   "metadata": {},
   "outputs": [],
   "source": [
    "dataset.isnull().sum()"
   ]
  },
  {
   "cell_type": "raw",
   "id": "4e7d8362-725d-405a-823e-f3146eb51e95",
   "metadata": {},
   "source": [
    "4. Separating Quantitative and Qualitative Columns"
   ]
  },
  {
   "cell_type": "code",
   "execution_count": null,
   "id": "e08713d4-a838-4eee-9cec-1c1dc76800dc",
   "metadata": {},
   "outputs": [],
   "source": [
    "def quanQual(dataset):\n",
    "    quan=[]\n",
    "    qual=[]\n",
    "    for columnName in dataset.columns:\n",
    "        if(dataset[columnName].dtype=='O'):\n",
    "            qual.append(columnName)\n",
    "        else:\n",
    "            quan.append(columnName)\n",
    "    return quan,qual\n",
    "quan,qual=quanQual(dataset)\n"
   ]
  },
  {
   "cell_type": "code",
   "execution_count": null,
   "id": "04e0929e-8ce1-4fda-8f5b-bb26d2c610f7",
   "metadata": {},
   "outputs": [],
   "source": [
    "dataset[quan]"
   ]
  },
  {
   "cell_type": "raw",
   "id": "2d1849c9-3ced-4519-8039-6845214adb23",
   "metadata": {},
   "source": [
    "5. Imputing Missing Values in Quantitative Columns"
   ]
  },
  {
   "cell_type": "code",
   "execution_count": null,
   "id": "354d3098-e0af-453b-9a40-0fc114053192",
   "metadata": {},
   "outputs": [],
   "source": [
    "import numpy as np\n",
    "from sklearn.impute import SimpleImputer\n",
    "imp = SimpleImputer(missing_values=np.nan, strategy='mean')\n",
    "print(quan)\n",
    "new_dataset1=imp.fit(dataset[quan])\n",
    "new_dataset1=imp.transform(dataset[quan])"
   ]
  },
  {
   "cell_type": "code",
   "execution_count": null,
   "id": "51488ca3-dc79-42c3-b165-b0633b114631",
   "metadata": {},
   "outputs": [],
   "source": [
    "new_dataset1=pd.DataFrame(new_dataset1,columns=quan)\n",
    "new_dataset1"
   ]
  },
  {
   "cell_type": "raw",
   "id": "cc2bc61e-359e-494c-bea7-888efda2c1da",
   "metadata": {},
   "source": [
    "6. Imputing Missing Values in Qualitative Columns"
   ]
  },
  {
   "cell_type": "code",
   "execution_count": null,
   "id": "b58f4cd7-ed23-4d54-92b1-30b8cbfa36a9",
   "metadata": {},
   "outputs": [],
   "source": [
    "\n",
    "imp2=SimpleImputer(missing_values=np.nan, strategy='most_frequent')\n",
    "new_dataset2=imp2.fit(dataset[qual])\n",
    "new_dataset2=imp2.transform(dataset[qual])\n"
   ]
  },
  {
   "cell_type": "code",
   "execution_count": null,
   "id": "c241d107-d7e2-4900-a417-f48df6e34e4b",
   "metadata": {},
   "outputs": [],
   "source": [
    "new_dataset2=pd.DataFrame(new_dataset2,columns=qual)\n",
    "new_dataset2"
   ]
  },
  {
   "cell_type": "raw",
   "id": "e681f25b-ddeb-4643-bb46-e66b3052ad23",
   "metadata": {},
   "source": [
    "7. Combining the Imputed DataFrames"
   ]
  },
  {
   "cell_type": "code",
   "execution_count": null,
   "id": "ba886e24-7e98-43c1-80f9-a0f031ab1749",
   "metadata": {},
   "outputs": [],
   "source": [
    "combined_data=pd.concat([new_dataset1,new_dataset2],axis=1)\n",
    "combined_data"
   ]
  },
  {
   "cell_type": "raw",
   "id": "f8627a35-a23a-45f6-b903-5e80f9e9e0b2",
   "metadata": {},
   "source": [
    "8.  Attempting to Fill Missing Values "
   ]
  },
  {
   "cell_type": "code",
   "execution_count": 4,
   "id": "d2fb67e3-62b8-4ad3-ad6a-733927a87d33",
   "metadata": {},
   "outputs": [
    {
     "ename": "NameError",
     "evalue": "name 'combined_data' is not defined",
     "output_type": "error",
     "traceback": [
      "\u001b[1;31m---------------------------------------------------------------------------\u001b[0m",
      "\u001b[1;31mNameError\u001b[0m                                 Traceback (most recent call last)",
      "Cell \u001b[1;32mIn[4], line 1\u001b[0m\n\u001b[1;32m----> 1\u001b[0m dataset\u001b[38;5;241m.\u001b[39mfillna(combined_data,inplace\u001b[38;5;241m=\u001b[39m\u001b[38;5;28;01mTrue\u001b[39;00m)\n",
      "\u001b[1;31mNameError\u001b[0m: name 'combined_data' is not defined"
     ]
    }
   ],
   "source": [
    "dataset.fillna(combined_data,inplace=True)"
   ]
  },
  {
   "cell_type": "code",
   "execution_count": null,
   "id": "6f5db1fb-872c-4f34-8cc0-258071352b82",
   "metadata": {},
   "outputs": [],
   "source": [
    "dataset.isnull().sum()"
   ]
  },
  {
   "cell_type": "code",
   "execution_count": null,
   "id": "238c84e2-925d-4f68-a0b7-819a84a4182e",
   "metadata": {},
   "outputs": [],
   "source": []
  }
 ],
 "metadata": {
  "kernelspec": {
   "display_name": "Python 3 (ipykernel)",
   "language": "python",
   "name": "python3"
  },
  "language_info": {
   "codemirror_mode": {
    "name": "ipython",
    "version": 3
   },
   "file_extension": ".py",
   "mimetype": "text/x-python",
   "name": "python",
   "nbconvert_exporter": "python",
   "pygments_lexer": "ipython3",
   "version": "3.11.5"
  }
 },
 "nbformat": 4,
 "nbformat_minor": 5
}
