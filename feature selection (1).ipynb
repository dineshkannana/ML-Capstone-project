{
 "cells": [
  {
   "cell_type": "code",
   "execution_count": 1,
   "id": "cd628968-a797-4867-b21b-276def12f837",
   "metadata": {},
   "outputs": [
    {
     "name": "stdout",
     "output_type": "stream",
     "text": [
      "Top 3 Features using RFE: Index(['Temperature_Celsius', 'Fertilizer_Used', 'Irrigation_Used'], dtype='object')\n",
      "Top 3 Features using SelectKBest: Index(['Rainfall_mm', 'Fertilizer_Used', 'Irrigation_Used'], dtype='object')\n",
      "R2 Score on RFE selected features: 0.3278807581129656\n",
      "R2 Score on SelectKBest selected features: 0.9056033219363863\n"
     ]
    }
   ],
   "source": [
    "import pandas as pd\n",
    "from sklearn.feature_selection import RFE, SelectKBest, f_regression\n",
    "from sklearn.linear_model import LinearRegression\n",
    "from sklearn.model_selection import train_test_split\n",
    "from sklearn.preprocessing import StandardScaler\n",
    "from sklearn.metrics import r2_score\n",
    "\n",
    "# Load dataset and encode categorical features\n",
    "dataset1 = pd.read_csv(\"pre_crop_yield.csv\")  # Adjust the path if necessary\n",
    "df2 = pd.get_dummies(dataset1, drop_first=True)\n",
    "\n",
    "# Split data into features and target variable\n",
    "indep_X = df2.drop('Yield_tons_per_hectare', axis=1)\n",
    "dep_Y = df2['Yield_tons_per_hectare']\n",
    "\n",
    "# Split and scale the data\n",
    "def split_scalar(indep_X, dep_Y):\n",
    "    X_train, X_test, y_train, y_test = train_test_split(indep_X, dep_Y, test_size=0.25, random_state=0)\n",
    "    sc = StandardScaler()\n",
    "    X_train = sc.fit_transform(X_train)\n",
    "    X_test = sc.transform(X_test)    \n",
    "    return X_train, X_test, y_train, y_test\n",
    "\n",
    "# RFE for feature selection\n",
    "def rfeFeature(indep_X, dep_Y, n_features):\n",
    "    model = LinearRegression()\n",
    "    rfe = RFE(estimator=model, n_features_to_select=n_features)\n",
    "    fit = rfe.fit(indep_X, dep_Y)\n",
    "    selected_features = indep_X.columns[fit.support_]\n",
    "    return selected_features\n",
    "\n",
    "# SelectKBest for feature selection\n",
    "def select_k_best_features(indep_X, dep_Y, n_features):\n",
    "    selector = SelectKBest(score_func=f_regression, k=n_features)\n",
    "    selector.fit(indep_X, dep_Y)\n",
    "    selected_features = indep_X.columns[selector.get_support()]\n",
    "    return selected_features\n",
    "\n",
    "# Train a model and evaluate R2 score\n",
    "def train_model(X_train, y_train, X_test, y_test):\n",
    "    model = LinearRegression()\n",
    "    model.fit(X_train, y_train)\n",
    "    y_pred = model.predict(X_test)\n",
    "    return r2_score(y_test, y_pred)\n",
    "\n",
    "# Identify the top 3 features using RFE\n",
    "top_features_rfe = rfeFeature(indep_X, dep_Y, 3)\n",
    "print(\"Top 3 Features using RFE:\", top_features_rfe)\n",
    "\n",
    "# Identify the top 3 features using SelectKBest\n",
    "top_features_kbest = select_k_best_features(indep_X, dep_Y, 3)\n",
    "print(\"Top 3 Features using SelectKBest:\", top_features_kbest)\n",
    "\n",
    "# Split and scale the data for both feature sets\n",
    "X_train_rfe, X_test_rfe, y_train_rfe, y_test_rfe = split_scalar(indep_X[top_features_rfe], dep_Y)\n",
    "X_train_kbest, X_test_kbest, y_train_kbest, y_test_kbest = split_scalar(indep_X[top_features_kbest], dep_Y)\n",
    "\n",
    "# Train and evaluate models on the RFE selected features\n",
    "rfe_r2_score = train_model(X_train_rfe, y_train_rfe, X_test_rfe, y_test_rfe)\n",
    "print(f\"R2 Score on RFE selected features: {rfe_r2_score}\")\n",
    "\n",
    "# Train and evaluate models on the SelectKBest selected features\n",
    "kbest_r2_score = train_model(X_train_kbest, y_train_kbest, X_test_kbest, y_test_kbest)\n",
    "print(f\"R2 Score on SelectKBest selected features: {kbest_r2_score}\")\n"
   ]
  },
  {
   "cell_type": "code",
   "execution_count": null,
   "id": "0b1b1a6d-8d47-4eb3-b967-c2ea6aa3b8d4",
   "metadata": {},
   "outputs": [],
   "source": []
  }
 ],
 "metadata": {
  "kernelspec": {
   "display_name": "Python 3 (ipykernel)",
   "language": "python",
   "name": "python3"
  },
  "language_info": {
   "codemirror_mode": {
    "name": "ipython",
    "version": 3
   },
   "file_extension": ".py",
   "mimetype": "text/x-python",
   "name": "python",
   "nbconvert_exporter": "python",
   "pygments_lexer": "ipython3",
   "version": "3.11.5"
  }
 },
 "nbformat": 4,
 "nbformat_minor": 5
}
