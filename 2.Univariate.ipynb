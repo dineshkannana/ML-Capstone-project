{
 "cells": [
  {
   "cell_type": "code",
   "execution_count": 1,
   "id": "719dc9f5-74c8-4815-aa5e-42fa62609fe9",
   "metadata": {},
   "outputs": [],
   "source": [
    "import pandas as pd"
   ]
  },
  {
   "cell_type": "code",
   "execution_count": 2,
   "id": "3044696a-ea97-4a4d-bf81-720bf8a7e087",
   "metadata": {},
   "outputs": [
    {
     "data": {
      "text/html": [
       "<div>\n",
       "<style scoped>\n",
       "    .dataframe tbody tr th:only-of-type {\n",
       "        vertical-align: middle;\n",
       "    }\n",
       "\n",
       "    .dataframe tbody tr th {\n",
       "        vertical-align: top;\n",
       "    }\n",
       "\n",
       "    .dataframe thead th {\n",
       "        text-align: right;\n",
       "    }\n",
       "</style>\n",
       "<table border=\"1\" class=\"dataframe\">\n",
       "  <thead>\n",
       "    <tr style=\"text-align: right;\">\n",
       "      <th></th>\n",
       "      <th>Region</th>\n",
       "      <th>Soil_Type</th>\n",
       "      <th>Crop</th>\n",
       "      <th>Rainfall_mm</th>\n",
       "      <th>Temperature_Celsius</th>\n",
       "      <th>Fertilizer_Used</th>\n",
       "      <th>Irrigation_Used</th>\n",
       "      <th>Weather_Condition</th>\n",
       "      <th>Days_to_Harvest</th>\n",
       "      <th>Yield_tons_per_hectare</th>\n",
       "    </tr>\n",
       "  </thead>\n",
       "  <tbody>\n",
       "    <tr>\n",
       "      <th>0</th>\n",
       "      <td>West</td>\n",
       "      <td>Sandy</td>\n",
       "      <td>Cotton</td>\n",
       "      <td>897.077239</td>\n",
       "      <td>27.676966</td>\n",
       "      <td>False</td>\n",
       "      <td>True</td>\n",
       "      <td>Cloudy</td>\n",
       "      <td>122</td>\n",
       "      <td>6.555816</td>\n",
       "    </tr>\n",
       "    <tr>\n",
       "      <th>1</th>\n",
       "      <td>South</td>\n",
       "      <td>Clay</td>\n",
       "      <td>Rice</td>\n",
       "      <td>992.673282</td>\n",
       "      <td>18.026142</td>\n",
       "      <td>True</td>\n",
       "      <td>True</td>\n",
       "      <td>Rainy</td>\n",
       "      <td>140</td>\n",
       "      <td>8.527341</td>\n",
       "    </tr>\n",
       "    <tr>\n",
       "      <th>2</th>\n",
       "      <td>North</td>\n",
       "      <td>Loam</td>\n",
       "      <td>Barley</td>\n",
       "      <td>147.998025</td>\n",
       "      <td>29.794042</td>\n",
       "      <td>False</td>\n",
       "      <td>False</td>\n",
       "      <td>Sunny</td>\n",
       "      <td>106</td>\n",
       "      <td>1.127443</td>\n",
       "    </tr>\n",
       "    <tr>\n",
       "      <th>3</th>\n",
       "      <td>North</td>\n",
       "      <td>Sandy</td>\n",
       "      <td>Soybean</td>\n",
       "      <td>986.866331</td>\n",
       "      <td>16.644190</td>\n",
       "      <td>False</td>\n",
       "      <td>True</td>\n",
       "      <td>Rainy</td>\n",
       "      <td>146</td>\n",
       "      <td>6.517573</td>\n",
       "    </tr>\n",
       "    <tr>\n",
       "      <th>4</th>\n",
       "      <td>South</td>\n",
       "      <td>Silt</td>\n",
       "      <td>Wheat</td>\n",
       "      <td>730.379174</td>\n",
       "      <td>31.620687</td>\n",
       "      <td>True</td>\n",
       "      <td>True</td>\n",
       "      <td>Cloudy</td>\n",
       "      <td>110</td>\n",
       "      <td>7.248251</td>\n",
       "    </tr>\n",
       "    <tr>\n",
       "      <th>...</th>\n",
       "      <td>...</td>\n",
       "      <td>...</td>\n",
       "      <td>...</td>\n",
       "      <td>...</td>\n",
       "      <td>...</td>\n",
       "      <td>...</td>\n",
       "      <td>...</td>\n",
       "      <td>...</td>\n",
       "      <td>...</td>\n",
       "      <td>...</td>\n",
       "    </tr>\n",
       "    <tr>\n",
       "      <th>999984</th>\n",
       "      <td>West</td>\n",
       "      <td>Silt</td>\n",
       "      <td>Rice</td>\n",
       "      <td>302.805345</td>\n",
       "      <td>27.987428</td>\n",
       "      <td>False</td>\n",
       "      <td>False</td>\n",
       "      <td>Sunny</td>\n",
       "      <td>76</td>\n",
       "      <td>1.347586</td>\n",
       "    </tr>\n",
       "    <tr>\n",
       "      <th>999985</th>\n",
       "      <td>South</td>\n",
       "      <td>Chalky</td>\n",
       "      <td>Barley</td>\n",
       "      <td>932.991383</td>\n",
       "      <td>39.661039</td>\n",
       "      <td>True</td>\n",
       "      <td>False</td>\n",
       "      <td>Rainy</td>\n",
       "      <td>93</td>\n",
       "      <td>7.311594</td>\n",
       "    </tr>\n",
       "    <tr>\n",
       "      <th>999986</th>\n",
       "      <td>North</td>\n",
       "      <td>Peaty</td>\n",
       "      <td>Cotton</td>\n",
       "      <td>867.362046</td>\n",
       "      <td>24.370042</td>\n",
       "      <td>True</td>\n",
       "      <td>False</td>\n",
       "      <td>Cloudy</td>\n",
       "      <td>108</td>\n",
       "      <td>5.763182</td>\n",
       "    </tr>\n",
       "    <tr>\n",
       "      <th>999987</th>\n",
       "      <td>West</td>\n",
       "      <td>Silt</td>\n",
       "      <td>Wheat</td>\n",
       "      <td>492.812857</td>\n",
       "      <td>33.045505</td>\n",
       "      <td>False</td>\n",
       "      <td>False</td>\n",
       "      <td>Sunny</td>\n",
       "      <td>102</td>\n",
       "      <td>2.070159</td>\n",
       "    </tr>\n",
       "    <tr>\n",
       "      <th>999988</th>\n",
       "      <td>West</td>\n",
       "      <td>Sandy</td>\n",
       "      <td>Maize</td>\n",
       "      <td>180.936180</td>\n",
       "      <td>27.298847</td>\n",
       "      <td>True</td>\n",
       "      <td>False</td>\n",
       "      <td>Sunny</td>\n",
       "      <td>76</td>\n",
       "      <td>2.937243</td>\n",
       "    </tr>\n",
       "  </tbody>\n",
       "</table>\n",
       "<p>999989 rows × 10 columns</p>\n",
       "</div>"
      ],
      "text/plain": [
       "       Region Soil_Type     Crop  Rainfall_mm  Temperature_Celsius  \\\n",
       "0        West     Sandy   Cotton   897.077239            27.676966   \n",
       "1       South      Clay     Rice   992.673282            18.026142   \n",
       "2       North      Loam   Barley   147.998025            29.794042   \n",
       "3       North     Sandy  Soybean   986.866331            16.644190   \n",
       "4       South      Silt    Wheat   730.379174            31.620687   \n",
       "...       ...       ...      ...          ...                  ...   \n",
       "999984   West      Silt     Rice   302.805345            27.987428   \n",
       "999985  South    Chalky   Barley   932.991383            39.661039   \n",
       "999986  North     Peaty   Cotton   867.362046            24.370042   \n",
       "999987   West      Silt    Wheat   492.812857            33.045505   \n",
       "999988   West     Sandy    Maize   180.936180            27.298847   \n",
       "\n",
       "        Fertilizer_Used  Irrigation_Used Weather_Condition  Days_to_Harvest  \\\n",
       "0                 False             True            Cloudy              122   \n",
       "1                  True             True             Rainy              140   \n",
       "2                 False            False             Sunny              106   \n",
       "3                 False             True             Rainy              146   \n",
       "4                  True             True            Cloudy              110   \n",
       "...                 ...              ...               ...              ...   \n",
       "999984            False            False             Sunny               76   \n",
       "999985             True            False             Rainy               93   \n",
       "999986             True            False            Cloudy              108   \n",
       "999987            False            False             Sunny              102   \n",
       "999988             True            False             Sunny               76   \n",
       "\n",
       "        Yield_tons_per_hectare  \n",
       "0                     6.555816  \n",
       "1                     8.527341  \n",
       "2                     1.127443  \n",
       "3                     6.517573  \n",
       "4                     7.248251  \n",
       "...                        ...  \n",
       "999984                1.347586  \n",
       "999985                7.311594  \n",
       "999986                5.763182  \n",
       "999987                2.070159  \n",
       "999988                2.937243  \n",
       "\n",
       "[999989 rows x 10 columns]"
      ]
     },
     "execution_count": 2,
     "metadata": {},
     "output_type": "execute_result"
    }
   ],
   "source": [
    "dataset=pd.read_csv(\"crop_yield_cleaned.csv\")\n",
    "dataset"
   ]
  },
  {
   "cell_type": "code",
   "execution_count": 3,
   "id": "77089724-1caa-4dd9-a32d-a9fd482db2ab",
   "metadata": {},
   "outputs": [
    {
     "name": "stdout",
     "output_type": "stream",
     "text": [
      "<class 'pandas.core.frame.DataFrame'>\n",
      "RangeIndex: 999989 entries, 0 to 999988\n",
      "Data columns (total 10 columns):\n",
      " #   Column                  Non-Null Count   Dtype  \n",
      "---  ------                  --------------   -----  \n",
      " 0   Region                  999989 non-null  object \n",
      " 1   Soil_Type               999989 non-null  object \n",
      " 2   Crop                    999989 non-null  object \n",
      " 3   Rainfall_mm             999989 non-null  float64\n",
      " 4   Temperature_Celsius     999989 non-null  float64\n",
      " 5   Fertilizer_Used         999989 non-null  bool   \n",
      " 6   Irrigation_Used         999989 non-null  bool   \n",
      " 7   Weather_Condition       999989 non-null  object \n",
      " 8   Days_to_Harvest         999989 non-null  int64  \n",
      " 9   Yield_tons_per_hectare  999989 non-null  float64\n",
      "dtypes: bool(2), float64(3), int64(1), object(4)\n",
      "memory usage: 62.9+ MB\n"
     ]
    }
   ],
   "source": [
    "dataset.info()"
   ]
  },
  {
   "cell_type": "code",
   "execution_count": 4,
   "id": "74b2af1a-04a4-460e-a405-0d21d3797655",
   "metadata": {},
   "outputs": [
    {
     "data": {
      "text/plain": [
       "dtype('bool')"
      ]
     },
     "execution_count": 4,
     "metadata": {},
     "output_type": "execute_result"
    }
   ],
   "source": [
    "dataset['Irrigation_Used'].dtypes"
   ]
  },
  {
   "cell_type": "code",
   "execution_count": 5,
   "id": "ea9cba67-85c3-414c-bc7c-23617cb48476",
   "metadata": {},
   "outputs": [],
   "source": [
    "def quanqual(dataset):\n",
    "    quan=[]\n",
    "    qual=[]\n",
    "    for columnName in dataset.columns:\n",
    "        if(dataset[columnName].dtype=='O' or dataset[columnName].dtype=='bool'):\n",
    "            qual.append(columnName)\n",
    "        else:\n",
    "            quan.append(columnName)\n",
    "    return quan,qual\n",
    "quan,qual=quanqual(dataset)"
   ]
  },
  {
   "cell_type": "code",
   "execution_count": 6,
   "id": "41b8a50c-b864-49b1-b0c2-85b5545472c0",
   "metadata": {},
   "outputs": [
    {
     "data": {
      "text/plain": [
       "['Rainfall_mm',\n",
       " 'Temperature_Celsius',\n",
       " 'Days_to_Harvest',\n",
       " 'Yield_tons_per_hectare']"
      ]
     },
     "execution_count": 6,
     "metadata": {},
     "output_type": "execute_result"
    }
   ],
   "source": [
    "quan"
   ]
  },
  {
   "cell_type": "code",
   "execution_count": 7,
   "id": "ddd7d65e-7004-40f0-9f9c-178860459326",
   "metadata": {},
   "outputs": [
    {
     "data": {
      "text/plain": [
       "['Region',\n",
       " 'Soil_Type',\n",
       " 'Crop',\n",
       " 'Fertilizer_Used',\n",
       " 'Irrigation_Used',\n",
       " 'Weather_Condition']"
      ]
     },
     "execution_count": 7,
     "metadata": {},
     "output_type": "execute_result"
    }
   ],
   "source": [
    "qual"
   ]
  },
  {
   "cell_type": "code",
   "execution_count": 8,
   "id": "fd8758fd-fdd4-46ce-b305-3381cb61e823",
   "metadata": {},
   "outputs": [],
   "source": [
    "import numpy as np"
   ]
  },
  {
   "cell_type": "code",
   "execution_count": 9,
   "id": "259fc4af-3103-4e44-a84e-2aac9a0c6aa2",
   "metadata": {},
   "outputs": [
    {
     "data": {
      "text/plain": [
       "9.963372229"
      ]
     },
     "execution_count": 9,
     "metadata": {},
     "output_type": "execute_result"
    }
   ],
   "source": [
    "np.percentile(dataset['Yield_tons_per_hectare'],100)"
   ]
  },
  {
   "cell_type": "code",
   "execution_count": 10,
   "id": "b44672c4-a696-4e18-bb90-f756c4a775c6",
   "metadata": {},
   "outputs": [],
   "source": [
    "descriptive = pd.DataFrame(index=[\"Mean\", \"Median\", \"Mode\",\"Q1:25%\",\"Q2:50%\",\"Q3:75%\",\"99%\",\"Q4:100%\",\"IQR\",\"1.5rule\",\"lesser\",\"greader\",\"min\",\"max\",\"kurtosis\",\"skew\"], columns=quan)\n",
    "\n",
    "for columnName in quan:\n",
    "    descriptive.loc[\"Mean\", columnName] = dataset[columnName].mean()\n",
    "    descriptive.loc[\"Median\", columnName] = dataset[columnName].median()  \n",
    "    descriptive.loc[\"Mode\", columnName] = dataset[columnName].mode().iloc[0]\n",
    "    descriptive.loc[\"Q1:25%\",columnName]=np.percentile(dataset[columnName],25)\n",
    "    descriptive.loc[\"Q2:50%\",columnName]=np.percentile(dataset[columnName],50)\n",
    "    descriptive.loc[\"Q3:75%\",columnName]=np.percentile(dataset[columnName],75)\n",
    "    descriptive.loc[\"99%\",columnName]=np.percentile(dataset[columnName],99)\n",
    "    descriptive.loc[\"Q4:100%\",columnName]=np.percentile(dataset[columnName],100)\n",
    "    descriptive.loc[\"IQR\", columnName] = descriptive[columnName][\"Q3:75%\"] - descriptive[columnName][\"Q1:25%\"]\n",
    "    descriptive.loc[\"1.5rule\",columnName]=1.5*descriptive[columnName][\"IQR\"]\n",
    "    descriptive.loc[\"lesser\",columnName]=descriptive[columnName][\"Q1:25%\"] - descriptive[columnName][\"1.5rule\"]\n",
    "    descriptive.loc[\"greader\",columnName]=descriptive[columnName][\"Q3:75%\"] + descriptive[columnName][\"1.5rule\"]\n",
    "    descriptive.loc[\"min\",columnName]=dataset[columnName].min()\n",
    "    descriptive.loc[\"max\",columnName]=dataset[columnName].max()\n",
    "    descriptive.loc[\"kurtosis\",columnName]=dataset[columnName].kurtosis()\n",
    "    descriptive.loc[\"skew\",columnName]=dataset[columnName].skew()"
   ]
  },
  {
   "cell_type": "code",
   "execution_count": 11,
   "id": "d9b42eb4-855c-4651-9da5-5d10239ba0d4",
   "metadata": {},
   "outputs": [
    {
     "data": {
      "text/html": [
       "<div>\n",
       "<style scoped>\n",
       "    .dataframe tbody tr th:only-of-type {\n",
       "        vertical-align: middle;\n",
       "    }\n",
       "\n",
       "    .dataframe tbody tr th {\n",
       "        vertical-align: top;\n",
       "    }\n",
       "\n",
       "    .dataframe thead th {\n",
       "        text-align: right;\n",
       "    }\n",
       "</style>\n",
       "<table border=\"1\" class=\"dataframe\">\n",
       "  <thead>\n",
       "    <tr style=\"text-align: right;\">\n",
       "      <th></th>\n",
       "      <th>Rainfall_mm</th>\n",
       "      <th>Temperature_Celsius</th>\n",
       "      <th>Days_to_Harvest</th>\n",
       "      <th>Yield_tons_per_hectare</th>\n",
       "    </tr>\n",
       "  </thead>\n",
       "  <tbody>\n",
       "    <tr>\n",
       "      <th>Mean</th>\n",
       "      <td>549.982173</td>\n",
       "      <td>27.505014</td>\n",
       "      <td>104.494921</td>\n",
       "      <td>4.649479</td>\n",
       "    </tr>\n",
       "    <tr>\n",
       "      <th>Median</th>\n",
       "      <td>550.123317</td>\n",
       "      <td>27.507477</td>\n",
       "      <td>104.0</td>\n",
       "      <td>4.651813</td>\n",
       "    </tr>\n",
       "    <tr>\n",
       "      <th>Mode</th>\n",
       "      <td>117.166512</td>\n",
       "      <td>15.060695</td>\n",
       "      <td>91</td>\n",
       "      <td>0.931381</td>\n",
       "    </tr>\n",
       "    <tr>\n",
       "      <th>Q1:25%</th>\n",
       "      <td>324.891721</td>\n",
       "      <td>21.25453</td>\n",
       "      <td>82.0</td>\n",
       "      <td>3.41764</td>\n",
       "    </tr>\n",
       "    <tr>\n",
       "      <th>Q2:50%</th>\n",
       "      <td>550.123317</td>\n",
       "      <td>27.507477</td>\n",
       "      <td>104.0</td>\n",
       "      <td>4.651813</td>\n",
       "    </tr>\n",
       "    <tr>\n",
       "      <th>Q3:75%</th>\n",
       "      <td>774.739075</td>\n",
       "      <td>33.753286</td>\n",
       "      <td>127.0</td>\n",
       "      <td>5.879216</td>\n",
       "    </tr>\n",
       "    <tr>\n",
       "      <th>99%</th>\n",
       "      <td>990.857217</td>\n",
       "      <td>39.752994</td>\n",
       "      <td>149.0</td>\n",
       "      <td>8.312342</td>\n",
       "    </tr>\n",
       "    <tr>\n",
       "      <th>Q4:100%</th>\n",
       "      <td>999.998098</td>\n",
       "      <td>39.999997</td>\n",
       "      <td>149.0</td>\n",
       "      <td>9.963372</td>\n",
       "    </tr>\n",
       "    <tr>\n",
       "      <th>IQR</th>\n",
       "      <td>449.847354</td>\n",
       "      <td>12.498757</td>\n",
       "      <td>45.0</td>\n",
       "      <td>2.461576</td>\n",
       "    </tr>\n",
       "    <tr>\n",
       "      <th>1.5rule</th>\n",
       "      <td>674.771031</td>\n",
       "      <td>18.748135</td>\n",
       "      <td>67.5</td>\n",
       "      <td>3.692364</td>\n",
       "    </tr>\n",
       "    <tr>\n",
       "      <th>lesser</th>\n",
       "      <td>-349.87931</td>\n",
       "      <td>2.506395</td>\n",
       "      <td>14.5</td>\n",
       "      <td>-0.274723</td>\n",
       "    </tr>\n",
       "    <tr>\n",
       "      <th>greader</th>\n",
       "      <td>1449.510106</td>\n",
       "      <td>52.501421</td>\n",
       "      <td>194.5</td>\n",
       "      <td>9.57158</td>\n",
       "    </tr>\n",
       "    <tr>\n",
       "      <th>min</th>\n",
       "      <td>100.000896</td>\n",
       "      <td>15.000034</td>\n",
       "      <td>60</td>\n",
       "      <td>-1.147613</td>\n",
       "    </tr>\n",
       "    <tr>\n",
       "      <th>max</th>\n",
       "      <td>999.998098</td>\n",
       "      <td>39.999997</td>\n",
       "      <td>149</td>\n",
       "      <td>9.963372</td>\n",
       "    </tr>\n",
       "    <tr>\n",
       "      <th>kurtosis</th>\n",
       "      <td>-1.199699</td>\n",
       "      <td>-1.200877</td>\n",
       "      <td>-1.197802</td>\n",
       "      <td>-0.519979</td>\n",
       "    </tr>\n",
       "    <tr>\n",
       "      <th>skew</th>\n",
       "      <td>-0.000933</td>\n",
       "      <td>-0.000543</td>\n",
       "      <td>0.00004</td>\n",
       "      <td>-0.000861</td>\n",
       "    </tr>\n",
       "  </tbody>\n",
       "</table>\n",
       "</div>"
      ],
      "text/plain": [
       "          Rainfall_mm Temperature_Celsius Days_to_Harvest  \\\n",
       "Mean       549.982173           27.505014      104.494921   \n",
       "Median     550.123317           27.507477           104.0   \n",
       "Mode       117.166512           15.060695              91   \n",
       "Q1:25%     324.891721            21.25453            82.0   \n",
       "Q2:50%     550.123317           27.507477           104.0   \n",
       "Q3:75%     774.739075           33.753286           127.0   \n",
       "99%        990.857217           39.752994           149.0   \n",
       "Q4:100%    999.998098           39.999997           149.0   \n",
       "IQR        449.847354           12.498757            45.0   \n",
       "1.5rule    674.771031           18.748135            67.5   \n",
       "lesser     -349.87931            2.506395            14.5   \n",
       "greader   1449.510106           52.501421           194.5   \n",
       "min        100.000896           15.000034              60   \n",
       "max        999.998098           39.999997             149   \n",
       "kurtosis    -1.199699           -1.200877       -1.197802   \n",
       "skew        -0.000933           -0.000543         0.00004   \n",
       "\n",
       "         Yield_tons_per_hectare  \n",
       "Mean                   4.649479  \n",
       "Median                 4.651813  \n",
       "Mode                   0.931381  \n",
       "Q1:25%                  3.41764  \n",
       "Q2:50%                 4.651813  \n",
       "Q3:75%                 5.879216  \n",
       "99%                    8.312342  \n",
       "Q4:100%                9.963372  \n",
       "IQR                    2.461576  \n",
       "1.5rule                3.692364  \n",
       "lesser                -0.274723  \n",
       "greader                 9.57158  \n",
       "min                   -1.147613  \n",
       "max                    9.963372  \n",
       "kurtosis              -0.519979  \n",
       "skew                  -0.000861  "
      ]
     },
     "execution_count": 11,
     "metadata": {},
     "output_type": "execute_result"
    }
   ],
   "source": [
    "descriptive"
   ]
  },
  {
   "cell_type": "code",
   "execution_count": 12,
   "id": "94841397-fdf6-4efd-b2b2-96a11b1c446b",
   "metadata": {},
   "outputs": [
    {
     "data": {
      "text/plain": [
       "False"
      ]
     },
     "execution_count": 12,
     "metadata": {},
     "output_type": "execute_result"
    }
   ],
   "source": [
    "descriptive[\"Days_to_Harvest\"][\"min\"]<descriptive[\"Days_to_Harvest\"][\"lesser\"]"
   ]
  },
  {
   "cell_type": "code",
   "execution_count": 13,
   "id": "73d88baa-c305-4bbd-98f9-b2e375e4073f",
   "metadata": {},
   "outputs": [],
   "source": [
    "lesser=[]\n",
    "greader=[]\n",
    "for columnName in quan:\n",
    "    if(descriptive[columnName][\"min\"]<descriptive[columnName][\"lesser\"]):\n",
    "        lesser.append(columnName)\n",
    "    if(descriptive[columnName][\"max\"]>descriptive[columnName][\"greader\"]):\n",
    "        greader.append(columnName)"
   ]
  },
  {
   "cell_type": "code",
   "execution_count": 14,
   "id": "1c0d9c5b-65bd-447a-9ddb-b28a65eeb919",
   "metadata": {},
   "outputs": [
    {
     "data": {
      "text/plain": [
       "['Yield_tons_per_hectare']"
      ]
     },
     "execution_count": 14,
     "metadata": {},
     "output_type": "execute_result"
    }
   ],
   "source": [
    "lesser"
   ]
  },
  {
   "cell_type": "code",
   "execution_count": 15,
   "id": "76ffbb4d-487e-450c-a585-593c07f383ff",
   "metadata": {},
   "outputs": [
    {
     "data": {
      "text/plain": [
       "['Yield_tons_per_hectare']"
      ]
     },
     "execution_count": 15,
     "metadata": {},
     "output_type": "execute_result"
    }
   ],
   "source": [
    "greader"
   ]
  },
  {
   "cell_type": "code",
   "execution_count": 16,
   "id": "e5c08a06-370d-4197-9f1c-c51eb0fafbcd",
   "metadata": {},
   "outputs": [],
   "source": [
    "for columnName in lesser:\n",
    "    dataset.loc[dataset[columnName] < descriptive[columnName][\"lesser\"], columnName] = descriptive[columnName][\"lesser\"]\n",
    "for columnName in greader:\n",
    "    dataset.loc[dataset[columnName] > descriptive[columnName][\"greader\"], columnName] = descriptive[columnName][\"greader\"]"
   ]
  },
  {
   "cell_type": "code",
   "execution_count": 17,
   "id": "12245fc9-d293-4a86-91ee-220ff2af5836",
   "metadata": {},
   "outputs": [],
   "source": [
    "descriptive = pd.DataFrame(index=[\"Mean\", \"Median\", \"Mode\",\"Q1:25%\",\"Q2:50%\",\"Q3:75%\",\"99%\",\"Q4:100%\",\"IQR\",\"1.5rule\",\"lesser\",\"greader\",\"min\",\"max\",\"skew\",\"kurtosis\",\"var\",\"std\"], columns=quan)\n",
    "\n",
    "for columnName in quan:\n",
    "    descriptive.loc[\"Mean\", columnName] = dataset[columnName].mean()\n",
    "    descriptive.loc[\"Median\", columnName] = dataset[columnName].median()  \n",
    "    descriptive.loc[\"Mode\", columnName] = dataset[columnName].mode().iloc[0]\n",
    "    descriptive.loc[\"Q1:25%\",columnName]=np.percentile(dataset[columnName],25)\n",
    "    descriptive.loc[\"Q2:50%\",columnName]=np.percentile(dataset[columnName],50)\n",
    "    descriptive.loc[\"Q3:75%\",columnName]=np.percentile(dataset[columnName],75)\n",
    "    descriptive.loc[\"99%\",columnName]=np.percentile(dataset[columnName],99)\n",
    "    descriptive.loc[\"Q4:100%\",columnName]=np.percentile(dataset[columnName],100)\n",
    "    descriptive.loc[\"IQR\", columnName] = descriptive[columnName][\"Q3:75%\"] - descriptive[columnName][\"Q1:25%\"]\n",
    "    descriptive.loc[\"1.5rule\",columnName]=1.5*descriptive[columnName][\"IQR\"]\n",
    "    descriptive.loc[\"lesser\",columnName]=descriptive[columnName][\"Q1:25%\"] - descriptive[columnName][\"1.5rule\"]\n",
    "    descriptive.loc[\"greader\",columnName]=descriptive[columnName][\"Q3:75%\"] + descriptive[columnName][\"1.5rule\"]\n",
    "    descriptive.loc[\"min\",columnName]=dataset[columnName].min()\n",
    "    descriptive.loc[\"max\",columnName]=dataset[columnName].max()\n",
    "    descriptive.loc[\"kurtosis\",columnName]=dataset[columnName].kurtosis()\n",
    "    descriptive.loc[\"skew\",columnName]=dataset[columnName].skew()\n",
    "    descriptive.loc[\"var\",columnName]=dataset[columnName].var()\n",
    "    descriptive.loc[\"std\",columnName]=dataset[columnName].std()"
   ]
  },
  {
   "cell_type": "code",
   "execution_count": 18,
   "id": "284492c6-cd30-4a40-8235-f2b7d985df4f",
   "metadata": {},
   "outputs": [
    {
     "data": {
      "text/html": [
       "<div>\n",
       "<style scoped>\n",
       "    .dataframe tbody tr th:only-of-type {\n",
       "        vertical-align: middle;\n",
       "    }\n",
       "\n",
       "    .dataframe tbody tr th {\n",
       "        vertical-align: top;\n",
       "    }\n",
       "\n",
       "    .dataframe thead th {\n",
       "        text-align: right;\n",
       "    }\n",
       "</style>\n",
       "<table border=\"1\" class=\"dataframe\">\n",
       "  <thead>\n",
       "    <tr style=\"text-align: right;\">\n",
       "      <th></th>\n",
       "      <th>Rainfall_mm</th>\n",
       "      <th>Temperature_Celsius</th>\n",
       "      <th>Days_to_Harvest</th>\n",
       "      <th>Yield_tons_per_hectare</th>\n",
       "    </tr>\n",
       "  </thead>\n",
       "  <tbody>\n",
       "    <tr>\n",
       "      <th>Mean</th>\n",
       "      <td>549.982173</td>\n",
       "      <td>27.505014</td>\n",
       "      <td>104.494921</td>\n",
       "      <td>4.649487</td>\n",
       "    </tr>\n",
       "    <tr>\n",
       "      <th>Median</th>\n",
       "      <td>550.123317</td>\n",
       "      <td>27.507477</td>\n",
       "      <td>104.0</td>\n",
       "      <td>4.651813</td>\n",
       "    </tr>\n",
       "    <tr>\n",
       "      <th>Mode</th>\n",
       "      <td>117.166512</td>\n",
       "      <td>15.060695</td>\n",
       "      <td>91</td>\n",
       "      <td>-0.274723</td>\n",
       "    </tr>\n",
       "    <tr>\n",
       "      <th>Q1:25%</th>\n",
       "      <td>324.891721</td>\n",
       "      <td>21.25453</td>\n",
       "      <td>82.0</td>\n",
       "      <td>3.41764</td>\n",
       "    </tr>\n",
       "    <tr>\n",
       "      <th>Q2:50%</th>\n",
       "      <td>550.123317</td>\n",
       "      <td>27.507477</td>\n",
       "      <td>104.0</td>\n",
       "      <td>4.651813</td>\n",
       "    </tr>\n",
       "    <tr>\n",
       "      <th>Q3:75%</th>\n",
       "      <td>774.739075</td>\n",
       "      <td>33.753286</td>\n",
       "      <td>127.0</td>\n",
       "      <td>5.879216</td>\n",
       "    </tr>\n",
       "    <tr>\n",
       "      <th>99%</th>\n",
       "      <td>990.857217</td>\n",
       "      <td>39.752994</td>\n",
       "      <td>149.0</td>\n",
       "      <td>8.312342</td>\n",
       "    </tr>\n",
       "    <tr>\n",
       "      <th>Q4:100%</th>\n",
       "      <td>999.998098</td>\n",
       "      <td>39.999997</td>\n",
       "      <td>149.0</td>\n",
       "      <td>9.57158</td>\n",
       "    </tr>\n",
       "    <tr>\n",
       "      <th>IQR</th>\n",
       "      <td>449.847354</td>\n",
       "      <td>12.498757</td>\n",
       "      <td>45.0</td>\n",
       "      <td>2.461576</td>\n",
       "    </tr>\n",
       "    <tr>\n",
       "      <th>1.5rule</th>\n",
       "      <td>674.771031</td>\n",
       "      <td>18.748135</td>\n",
       "      <td>67.5</td>\n",
       "      <td>3.692364</td>\n",
       "    </tr>\n",
       "    <tr>\n",
       "      <th>lesser</th>\n",
       "      <td>-349.87931</td>\n",
       "      <td>2.506395</td>\n",
       "      <td>14.5</td>\n",
       "      <td>-0.274723</td>\n",
       "    </tr>\n",
       "    <tr>\n",
       "      <th>greader</th>\n",
       "      <td>1449.510106</td>\n",
       "      <td>52.501421</td>\n",
       "      <td>194.5</td>\n",
       "      <td>9.57158</td>\n",
       "    </tr>\n",
       "    <tr>\n",
       "      <th>min</th>\n",
       "      <td>100.000896</td>\n",
       "      <td>15.000034</td>\n",
       "      <td>60</td>\n",
       "      <td>-0.274723</td>\n",
       "    </tr>\n",
       "    <tr>\n",
       "      <th>max</th>\n",
       "      <td>999.998098</td>\n",
       "      <td>39.999997</td>\n",
       "      <td>149</td>\n",
       "      <td>9.57158</td>\n",
       "    </tr>\n",
       "    <tr>\n",
       "      <th>skew</th>\n",
       "      <td>-0.000933</td>\n",
       "      <td>-0.000543</td>\n",
       "      <td>0.00004</td>\n",
       "      <td>-0.000747</td>\n",
       "    </tr>\n",
       "    <tr>\n",
       "      <th>kurtosis</th>\n",
       "      <td>-1.199699</td>\n",
       "      <td>-1.200877</td>\n",
       "      <td>-1.197802</td>\n",
       "      <td>-0.520666</td>\n",
       "    </tr>\n",
       "    <tr>\n",
       "      <th>var</th>\n",
       "      <td>67522.734903</td>\n",
       "      <td>52.137242</td>\n",
       "      <td>673.580518</td>\n",
       "      <td>2.878212</td>\n",
       "    </tr>\n",
       "    <tr>\n",
       "      <th>std</th>\n",
       "      <td>259.851371</td>\n",
       "      <td>7.220612</td>\n",
       "      <td>25.95343</td>\n",
       "      <td>1.696529</td>\n",
       "    </tr>\n",
       "  </tbody>\n",
       "</table>\n",
       "</div>"
      ],
      "text/plain": [
       "           Rainfall_mm Temperature_Celsius Days_to_Harvest  \\\n",
       "Mean        549.982173           27.505014      104.494921   \n",
       "Median      550.123317           27.507477           104.0   \n",
       "Mode        117.166512           15.060695              91   \n",
       "Q1:25%      324.891721            21.25453            82.0   \n",
       "Q2:50%      550.123317           27.507477           104.0   \n",
       "Q3:75%      774.739075           33.753286           127.0   \n",
       "99%         990.857217           39.752994           149.0   \n",
       "Q4:100%     999.998098           39.999997           149.0   \n",
       "IQR         449.847354           12.498757            45.0   \n",
       "1.5rule     674.771031           18.748135            67.5   \n",
       "lesser      -349.87931            2.506395            14.5   \n",
       "greader    1449.510106           52.501421           194.5   \n",
       "min         100.000896           15.000034              60   \n",
       "max         999.998098           39.999997             149   \n",
       "skew         -0.000933           -0.000543         0.00004   \n",
       "kurtosis     -1.199699           -1.200877       -1.197802   \n",
       "var       67522.734903           52.137242      673.580518   \n",
       "std         259.851371            7.220612        25.95343   \n",
       "\n",
       "         Yield_tons_per_hectare  \n",
       "Mean                   4.649487  \n",
       "Median                 4.651813  \n",
       "Mode                  -0.274723  \n",
       "Q1:25%                  3.41764  \n",
       "Q2:50%                 4.651813  \n",
       "Q3:75%                 5.879216  \n",
       "99%                    8.312342  \n",
       "Q4:100%                 9.57158  \n",
       "IQR                    2.461576  \n",
       "1.5rule                3.692364  \n",
       "lesser                -0.274723  \n",
       "greader                 9.57158  \n",
       "min                   -0.274723  \n",
       "max                     9.57158  \n",
       "skew                  -0.000747  \n",
       "kurtosis              -0.520666  \n",
       "var                    2.878212  \n",
       "std                    1.696529  "
      ]
     },
     "execution_count": 18,
     "metadata": {},
     "output_type": "execute_result"
    }
   ],
   "source": [
    "descriptive"
   ]
  },
  {
   "cell_type": "code",
   "execution_count": 19,
   "id": "4326ebfe-f2e7-4840-9dc3-773f56685bb3",
   "metadata": {},
   "outputs": [],
   "source": [
    "lesser=[]\n",
    "greader=[]\n",
    "for columnName in quan:\n",
    "    if(descriptive[columnName][\"min\"]<descriptive[columnName][\"lesser\"]):\n",
    "        lesser.append(columnName)\n",
    "    if(descriptive[columnName][\"max\"]>descriptive[columnName][\"greader\"]):\n",
    "        greader.append(columnName)"
   ]
  },
  {
   "cell_type": "code",
   "execution_count": 20,
   "id": "e9289bcc-73fa-4ce3-b404-29b893da2e8e",
   "metadata": {},
   "outputs": [
    {
     "data": {
      "text/plain": [
       "[]"
      ]
     },
     "execution_count": 20,
     "metadata": {},
     "output_type": "execute_result"
    }
   ],
   "source": [
    "lesser"
   ]
  },
  {
   "cell_type": "code",
   "execution_count": 21,
   "id": "23a3eb77-8b8e-4ff6-8af0-01295a866704",
   "metadata": {},
   "outputs": [
    {
     "data": {
      "text/plain": [
       "[]"
      ]
     },
     "execution_count": 21,
     "metadata": {},
     "output_type": "execute_result"
    }
   ],
   "source": [
    "greader"
   ]
  },
  {
   "cell_type": "code",
   "execution_count": 22,
   "id": "89f16f39-e340-4d5a-a736-d29a2d23b056",
   "metadata": {},
   "outputs": [],
   "source": [
    "import seaborn as sns"
   ]
  },
  {
   "cell_type": "code",
   "execution_count": 23,
   "id": "09a3dcab-606a-43b5-96ea-6d05d0d3e292",
   "metadata": {},
   "outputs": [
    {
     "name": "stderr",
     "output_type": "stream",
     "text": [
      "C:\\Users\\tiruk\\AppData\\Local\\Temp\\ipykernel_2976\\2921121842.py:1: UserWarning: \n",
      "\n",
      "`distplot` is a deprecated function and will be removed in seaborn v0.14.0.\n",
      "\n",
      "Please adapt your code to use either `displot` (a figure-level function with\n",
      "similar flexibility) or `histplot` (an axes-level function for histograms).\n",
      "\n",
      "For a guide to updating your code to use the new functions, please see\n",
      "https://gist.github.com/mwaskom/de44147ed2974457ad6372750bbe5751\n",
      "\n",
      "  sns.distplot(dataset[\"Days_to_Harvest\"])\n"
     ]
    },
    {
     "data": {
      "text/plain": [
       "<Axes: xlabel='Days_to_Harvest', ylabel='Density'>"
      ]
     },
     "execution_count": 23,
     "metadata": {},
     "output_type": "execute_result"
    },
    {
     "data": {
      "image/png": "[encoded data removed]",
      "text/plain": [
       "<Figure size 640x480 with 1 Axes>"
      ]
     },
     "metadata": {},
     "output_type": "display_data"
    }
   ],
   "source": [
    "sns.distplot(dataset[\"Days_to_Harvest\"])"
   ]
  },
  {
   "cell_type": "code",
   "execution_count": 24,
   "id": "4f876f01-72f0-4057-8c34-88eedfc17595",
   "metadata": {},
   "outputs": [],
   "source": [
    "#pdf\n",
    "def get_pdf_probability(ds,startrange,endrange):\n",
    "    from matplotlib import pyplot\n",
    "    from scipy.stats import norm\n",
    "    import seaborn as sns\n",
    "    ax=sns.distplot(ds,kde=True,kde_kws={'color':'blue'},color='green')\n",
    "    pyplot.axvline(startrange,color='Red')\n",
    "    pyplot.axvline(endrange,color='Red')\n",
    "    #generate a sample\n",
    "    sample=ds\n",
    "    #calculate parameters\n",
    "    sample_mean=sample.mean()\n",
    "    sample_std=sample.std()\n",
    "    print('Mean=%.3f,Standard Deviation=%.3f' %(sample_mean,sample_std))\n",
    "    #define the distribution\n",
    "    dist=norm(sample_mean,sample_std)\n",
    "\n",
    "    #sample probabilities for a range of outcomes\n",
    "    values=[value for value in range(startrange,endrange)]\n",
    "    probabilities=[dist.pdf(value) for value in values]\n",
    "    prob=sum(probabilities)\n",
    "    print(\"The area between range({},{}):{}\".format(startrange,endrange,sum(probabilities)))\n",
    "   \n",
    "    return prob"
   ]
  },
  {
   "cell_type": "code",
   "execution_count": 25,
   "id": "3cc674f4-29b7-446f-ae78-e06d27b1eff9",
   "metadata": {},
   "outputs": [
    {
     "name": "stderr",
     "output_type": "stream",
     "text": [
      "C:\\Users\\tiruk\\AppData\\Local\\Temp\\ipykernel_2976\\1730547310.py:6: UserWarning: \n",
      "\n",
      "`distplot` is a deprecated function and will be removed in seaborn v0.14.0.\n",
      "\n",
      "Please adapt your code to use either `displot` (a figure-level function with\n",
      "similar flexibility) or `histplot` (an axes-level function for histograms).\n",
      "\n",
      "For a guide to updating your code to use the new functions, please see\n",
      "https://gist.github.com/mwaskom/de44147ed2974457ad6372750bbe5751\n",
      "\n",
      "  ax=sns.distplot(ds,kde=True,kde_kws={'color':'blue'},color='green')\n"
     ]
    },
    {
     "name": "stdout",
     "output_type": "stream",
     "text": [
      "Mean=104.495,Standard Deviation=25.953\n",
      "The area between range(100,120):0.29474456052185116\n"
     ]
    },
    {
     "data": {
      "text/plain": [
       "0.29474456052185116"
      ]
     },
     "execution_count": 25,
     "metadata": {},
     "output_type": "execute_result"
    },
    {
     "data": {
      "image/png": "[encoded data removed]",
      "text/plain": [
       "<Figure size 640x480 with 1 Axes>"
      ]
     },
     "metadata": {},
     "output_type": "display_data"
    }
   ],
   "source": [
    "get_pdf_probability(dataset[\"Days_to_Harvest\"],100,120)"
   ]
  },
  {
   "cell_type": "code",
   "execution_count": 26,
   "id": "c2a0a952-b5ef-4618-8126-b0b3b995a47e",
   "metadata": {},
   "outputs": [
    {
     "data": {
      "text/plain": [
       "0.23295156246718712"
      ]
     },
     "execution_count": 26,
     "metadata": {},
     "output_type": "execute_result"
    }
   ],
   "source": [
    "#cdf\n",
    "from statsmodels.distributions.empirical_distribution import ECDF\n",
    "ecdf=ECDF(dataset['Days_to_Harvest'])\n",
    "ecdf(80)"
   ]
  },
  {
   "cell_type": "code",
   "execution_count": 27,
   "id": "b1d9a2e5-f5bc-4171-99de-3c779cd65814",
   "metadata": {},
   "outputs": [],
   "source": [
    "#snd\n",
    "def stdNBgraph(dataset):\n",
    "    # converted to std normal distribution\n",
    "    mean = dataset.mean() \n",
    "    std = dataset.std()  \n",
    "\n",
    "    values = [i for i in dataset]\n",
    "\n",
    "    z_score = [((j - mean) / std) for j in values]  \n",
    "\n",
    "    sns.distplot(z_score, kde=True)\n",
    "\n",
    "    print(sum(z_score) / len(z_score))  \n"
   ]
  },
  {
   "cell_type": "code",
   "execution_count": 28,
   "id": "17a0135a-eba6-40b4-8586-854be3c20e06",
   "metadata": {},
   "outputs": [
    {
     "name": "stderr",
     "output_type": "stream",
     "text": [
      "C:\\Users\\tiruk\\AppData\\Local\\Temp\\ipykernel_2976\\919892216.py:11: UserWarning: \n",
      "\n",
      "`distplot` is a deprecated function and will be removed in seaborn v0.14.0.\n",
      "\n",
      "Please adapt your code to use either `displot` (a figure-level function with\n",
      "similar flexibility) or `histplot` (an axes-level function for histograms).\n",
      "\n",
      "For a guide to updating your code to use the new functions, please see\n",
      "https://gist.github.com/mwaskom/de44147ed2974457ad6372750bbe5751\n",
      "\n",
      "  sns.distplot(z_score, kde=True)\n"
     ]
    },
    {
     "name": "stdout",
     "output_type": "stream",
     "text": [
      "7.676463973132636e-16\n"
     ]
    },
    {
     "data": {
      "image/png": "[encoded data removed]",
      "text/plain": [
       "<Figure size 640x480 with 1 Axes>"
      ]
     },
     "metadata": {},
     "output_type": "display_data"
    }
   ],
   "source": [
    "stdNBgraph(dataset[\"Days_to_Harvest\"])"
   ]
  },
  {
   "cell_type": "code",
   "execution_count": null,
   "id": "84d12264-c110-4b41-9a86-1e4c1c23c2d7",
   "metadata": {},
   "outputs": [],
   "source": []
  }
 ],
 "metadata": {
  "kernelspec": {
   "display_name": "Python 3 (ipykernel)",
   "language": "python",
   "name": "python3"
  },
  "language_info": {
   "codemirror_mode": {
    "name": "ipython",
    "version": 3
   },
   "file_extension": ".py",
   "mimetype": "text/x-python",
   "name": "python",
   "nbconvert_exporter": "python",
   "pygments_lexer": "ipython3",
   "version": "3.11.5"
  }
 },
 "nbformat": 4,
 "nbformat_minor": 5
}
